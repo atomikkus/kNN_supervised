{
 "cells": [
  {
   "cell_type": "code",
   "execution_count": 1,
   "metadata": {},
   "outputs": [],
   "source": [
    "import pandas as pd\n",
    "import numpy as np\n",
    "import matplotlib.pyplot as plt\n",
    "import seaborn as sns"
   ]
  },
  {
   "cell_type": "code",
   "execution_count": 4,
   "metadata": {},
   "outputs": [
    {
     "data": {
      "text/plain": [
       "6.708203932499369"
      ]
     },
     "execution_count": 4,
     "metadata": {},
     "output_type": "execute_result"
    }
   ],
   "source": [
    "np.sqrt(45)"
   ]
  },
  {
   "cell_type": "code",
   "execution_count": 7,
   "metadata": {},
   "outputs": [],
   "source": [
    "a = np.arange(1,6)"
   ]
  },
  {
   "cell_type": "code",
   "execution_count": 11,
   "metadata": {},
   "outputs": [
    {
     "data": {
      "text/plain": [
       "array([ 0,  3,  8, 15, 24])"
      ]
     },
     "execution_count": 11,
     "metadata": {},
     "output_type": "execute_result"
    }
   ],
   "source": [
    "(a**2) -1"
   ]
  },
  {
   "cell_type": "code",
   "execution_count": 3,
   "metadata": {},
   "outputs": [],
   "source": [
    "from sklearn.datasets import make_classification\n",
    "\n",
    "X, y = make_classification(n_samples=1000, n_features=20, n_informative=5, n_redundant=10, \n",
    "                           n_classes=2, random_state=42)\n",
    "\n",
    "import pandas as pd\n",
    "\n",
    "df = pd.DataFrame(X, columns=[f\"feature_{i}\" for i in range(20)])\n",
    "df[\"label\"] = y"
   ]
  },
  {
   "cell_type": "code",
   "execution_count": 4,
   "metadata": {},
   "outputs": [
    {
     "data": {
      "text/html": [
       "<div>\n",
       "<style scoped>\n",
       "    .dataframe tbody tr th:only-of-type {\n",
       "        vertical-align: middle;\n",
       "    }\n",
       "\n",
       "    .dataframe tbody tr th {\n",
       "        vertical-align: top;\n",
       "    }\n",
       "\n",
       "    .dataframe thead th {\n",
       "        text-align: right;\n",
       "    }\n",
       "</style>\n",
       "<table border=\"1\" class=\"dataframe\">\n",
       "  <thead>\n",
       "    <tr style=\"text-align: right;\">\n",
       "      <th></th>\n",
       "      <th>feature_0</th>\n",
       "      <th>feature_1</th>\n",
       "      <th>feature_2</th>\n",
       "      <th>feature_3</th>\n",
       "      <th>feature_4</th>\n",
       "      <th>feature_5</th>\n",
       "      <th>feature_6</th>\n",
       "      <th>feature_7</th>\n",
       "      <th>feature_8</th>\n",
       "      <th>feature_9</th>\n",
       "      <th>...</th>\n",
       "      <th>feature_11</th>\n",
       "      <th>feature_12</th>\n",
       "      <th>feature_13</th>\n",
       "      <th>feature_14</th>\n",
       "      <th>feature_15</th>\n",
       "      <th>feature_16</th>\n",
       "      <th>feature_17</th>\n",
       "      <th>feature_18</th>\n",
       "      <th>feature_19</th>\n",
       "      <th>label</th>\n",
       "    </tr>\n",
       "  </thead>\n",
       "  <tbody>\n",
       "    <tr>\n",
       "      <th>0</th>\n",
       "      <td>0.969231</td>\n",
       "      <td>-4.851963</td>\n",
       "      <td>-1.224016</td>\n",
       "      <td>1.038733</td>\n",
       "      <td>-0.278884</td>\n",
       "      <td>-2.815807</td>\n",
       "      <td>-0.354769</td>\n",
       "      <td>0.109341</td>\n",
       "      <td>-0.805743</td>\n",
       "      <td>-0.509291</td>\n",
       "      <td>...</td>\n",
       "      <td>0.626965</td>\n",
       "      <td>-2.713393</td>\n",
       "      <td>3.170217</td>\n",
       "      <td>-0.951866</td>\n",
       "      <td>1.250079</td>\n",
       "      <td>1.232963</td>\n",
       "      <td>3.149932</td>\n",
       "      <td>3.788432</td>\n",
       "      <td>2.053140</td>\n",
       "      <td>0</td>\n",
       "    </tr>\n",
       "    <tr>\n",
       "      <th>1</th>\n",
       "      <td>-0.414390</td>\n",
       "      <td>-0.972019</td>\n",
       "      <td>0.946620</td>\n",
       "      <td>0.044974</td>\n",
       "      <td>0.856996</td>\n",
       "      <td>0.320663</td>\n",
       "      <td>0.094508</td>\n",
       "      <td>-1.048251</td>\n",
       "      <td>-1.083497</td>\n",
       "      <td>0.487397</td>\n",
       "      <td>...</td>\n",
       "      <td>-1.151847</td>\n",
       "      <td>0.519897</td>\n",
       "      <td>1.239891</td>\n",
       "      <td>0.836711</td>\n",
       "      <td>1.890544</td>\n",
       "      <td>1.553658</td>\n",
       "      <td>0.213256</td>\n",
       "      <td>2.830135</td>\n",
       "      <td>0.151218</td>\n",
       "      <td>0</td>\n",
       "    </tr>\n",
       "    <tr>\n",
       "      <th>2</th>\n",
       "      <td>-1.964032</td>\n",
       "      <td>0.393795</td>\n",
       "      <td>2.314833</td>\n",
       "      <td>-2.977971</td>\n",
       "      <td>-1.732874</td>\n",
       "      <td>1.690167</td>\n",
       "      <td>1.573600</td>\n",
       "      <td>-0.575778</td>\n",
       "      <td>-0.352459</td>\n",
       "      <td>2.586871</td>\n",
       "      <td>...</td>\n",
       "      <td>-0.547441</td>\n",
       "      <td>2.374627</td>\n",
       "      <td>-0.087456</td>\n",
       "      <td>3.002685</td>\n",
       "      <td>2.168398</td>\n",
       "      <td>2.572907</td>\n",
       "      <td>-1.144945</td>\n",
       "      <td>0.548786</td>\n",
       "      <td>1.901121</td>\n",
       "      <td>0</td>\n",
       "    </tr>\n",
       "    <tr>\n",
       "      <th>3</th>\n",
       "      <td>0.469974</td>\n",
       "      <td>3.300685</td>\n",
       "      <td>0.620206</td>\n",
       "      <td>-2.234452</td>\n",
       "      <td>1.346120</td>\n",
       "      <td>2.055292</td>\n",
       "      <td>0.164503</td>\n",
       "      <td>-0.225105</td>\n",
       "      <td>1.794628</td>\n",
       "      <td>-0.418656</td>\n",
       "      <td>...</td>\n",
       "      <td>-0.799871</td>\n",
       "      <td>2.809214</td>\n",
       "      <td>-1.186734</td>\n",
       "      <td>1.785192</td>\n",
       "      <td>1.398503</td>\n",
       "      <td>-0.689849</td>\n",
       "      <td>-1.937763</td>\n",
       "      <td>0.513351</td>\n",
       "      <td>-0.792415</td>\n",
       "      <td>0</td>\n",
       "    </tr>\n",
       "    <tr>\n",
       "      <th>4</th>\n",
       "      <td>1.486396</td>\n",
       "      <td>-0.448244</td>\n",
       "      <td>-1.665193</td>\n",
       "      <td>2.066745</td>\n",
       "      <td>-1.113746</td>\n",
       "      <td>0.338987</td>\n",
       "      <td>1.131458</td>\n",
       "      <td>-1.143195</td>\n",
       "      <td>-0.578160</td>\n",
       "      <td>-1.160923</td>\n",
       "      <td>...</td>\n",
       "      <td>-1.057113</td>\n",
       "      <td>-0.477474</td>\n",
       "      <td>-0.077131</td>\n",
       "      <td>-2.013788</td>\n",
       "      <td>0.028805</td>\n",
       "      <td>-0.825174</td>\n",
       "      <td>0.807447</td>\n",
       "      <td>1.287186</td>\n",
       "      <td>1.345019</td>\n",
       "      <td>1</td>\n",
       "    </tr>\n",
       "    <tr>\n",
       "      <th>...</th>\n",
       "      <td>...</td>\n",
       "      <td>...</td>\n",
       "      <td>...</td>\n",
       "      <td>...</td>\n",
       "      <td>...</td>\n",
       "      <td>...</td>\n",
       "      <td>...</td>\n",
       "      <td>...</td>\n",
       "      <td>...</td>\n",
       "      <td>...</td>\n",
       "      <td>...</td>\n",
       "      <td>...</td>\n",
       "      <td>...</td>\n",
       "      <td>...</td>\n",
       "      <td>...</td>\n",
       "      <td>...</td>\n",
       "      <td>...</td>\n",
       "      <td>...</td>\n",
       "      <td>...</td>\n",
       "      <td>...</td>\n",
       "      <td>...</td>\n",
       "    </tr>\n",
       "    <tr>\n",
       "      <th>995</th>\n",
       "      <td>1.434408</td>\n",
       "      <td>-5.082547</td>\n",
       "      <td>0.795719</td>\n",
       "      <td>-0.005369</td>\n",
       "      <td>-0.896666</td>\n",
       "      <td>-3.047995</td>\n",
       "      <td>0.513635</td>\n",
       "      <td>-1.766599</td>\n",
       "      <td>-1.842373</td>\n",
       "      <td>2.311542</td>\n",
       "      <td>...</td>\n",
       "      <td>2.068611</td>\n",
       "      <td>-3.029699</td>\n",
       "      <td>2.294974</td>\n",
       "      <td>0.208349</td>\n",
       "      <td>-0.640322</td>\n",
       "      <td>2.739219</td>\n",
       "      <td>2.373965</td>\n",
       "      <td>-0.618261</td>\n",
       "      <td>-3.031194</td>\n",
       "      <td>1</td>\n",
       "    </tr>\n",
       "    <tr>\n",
       "      <th>996</th>\n",
       "      <td>0.613174</td>\n",
       "      <td>-2.386228</td>\n",
       "      <td>0.485596</td>\n",
       "      <td>0.903186</td>\n",
       "      <td>0.385469</td>\n",
       "      <td>-2.646239</td>\n",
       "      <td>0.753404</td>\n",
       "      <td>-2.063885</td>\n",
       "      <td>-0.818184</td>\n",
       "      <td>0.411716</td>\n",
       "      <td>...</td>\n",
       "      <td>1.700475</td>\n",
       "      <td>-2.594906</td>\n",
       "      <td>1.342111</td>\n",
       "      <td>-0.381829</td>\n",
       "      <td>-1.642734</td>\n",
       "      <td>0.543742</td>\n",
       "      <td>1.160004</td>\n",
       "      <td>-1.296134</td>\n",
       "      <td>-0.284290</td>\n",
       "      <td>1</td>\n",
       "    </tr>\n",
       "    <tr>\n",
       "      <th>997</th>\n",
       "      <td>-0.774917</td>\n",
       "      <td>-3.879878</td>\n",
       "      <td>2.449254</td>\n",
       "      <td>3.177267</td>\n",
       "      <td>-0.996907</td>\n",
       "      <td>-0.630824</td>\n",
       "      <td>-0.188103</td>\n",
       "      <td>-0.352685</td>\n",
       "      <td>-4.998103</td>\n",
       "      <td>2.131885</td>\n",
       "      <td>...</td>\n",
       "      <td>-1.888042</td>\n",
       "      <td>-1.414132</td>\n",
       "      <td>2.580797</td>\n",
       "      <td>-0.138510</td>\n",
       "      <td>1.068942</td>\n",
       "      <td>3.833758</td>\n",
       "      <td>1.132047</td>\n",
       "      <td>2.919885</td>\n",
       "      <td>-0.932863</td>\n",
       "      <td>1</td>\n",
       "    </tr>\n",
       "    <tr>\n",
       "      <th>998</th>\n",
       "      <td>0.068350</td>\n",
       "      <td>-6.397451</td>\n",
       "      <td>2.020195</td>\n",
       "      <td>3.165573</td>\n",
       "      <td>1.700429</td>\n",
       "      <td>-2.146368</td>\n",
       "      <td>-1.413515</td>\n",
       "      <td>0.895526</td>\n",
       "      <td>-5.415705</td>\n",
       "      <td>2.818855</td>\n",
       "      <td>...</td>\n",
       "      <td>-0.748071</td>\n",
       "      <td>-3.004173</td>\n",
       "      <td>3.531634</td>\n",
       "      <td>-0.513231</td>\n",
       "      <td>0.715165</td>\n",
       "      <td>4.650366</td>\n",
       "      <td>2.599674</td>\n",
       "      <td>2.680242</td>\n",
       "      <td>-1.857479</td>\n",
       "      <td>1</td>\n",
       "    </tr>\n",
       "    <tr>\n",
       "      <th>999</th>\n",
       "      <td>0.139994</td>\n",
       "      <td>-1.424653</td>\n",
       "      <td>0.790075</td>\n",
       "      <td>2.595247</td>\n",
       "      <td>-0.543473</td>\n",
       "      <td>-0.413632</td>\n",
       "      <td>0.629175</td>\n",
       "      <td>-0.314875</td>\n",
       "      <td>-2.417640</td>\n",
       "      <td>0.062424</td>\n",
       "      <td>...</td>\n",
       "      <td>-1.252588</td>\n",
       "      <td>-0.958794</td>\n",
       "      <td>1.235715</td>\n",
       "      <td>-0.794252</td>\n",
       "      <td>0.163174</td>\n",
       "      <td>1.039879</td>\n",
       "      <td>0.501303</td>\n",
       "      <td>1.733575</td>\n",
       "      <td>-0.376567</td>\n",
       "      <td>0</td>\n",
       "    </tr>\n",
       "  </tbody>\n",
       "</table>\n",
       "<p>1000 rows × 21 columns</p>\n",
       "</div>"
      ],
      "text/plain": [
       "     feature_0  feature_1  feature_2  feature_3  feature_4  feature_5  \\\n",
       "0     0.969231  -4.851963  -1.224016   1.038733  -0.278884  -2.815807   \n",
       "1    -0.414390  -0.972019   0.946620   0.044974   0.856996   0.320663   \n",
       "2    -1.964032   0.393795   2.314833  -2.977971  -1.732874   1.690167   \n",
       "3     0.469974   3.300685   0.620206  -2.234452   1.346120   2.055292   \n",
       "4     1.486396  -0.448244  -1.665193   2.066745  -1.113746   0.338987   \n",
       "..         ...        ...        ...        ...        ...        ...   \n",
       "995   1.434408  -5.082547   0.795719  -0.005369  -0.896666  -3.047995   \n",
       "996   0.613174  -2.386228   0.485596   0.903186   0.385469  -2.646239   \n",
       "997  -0.774917  -3.879878   2.449254   3.177267  -0.996907  -0.630824   \n",
       "998   0.068350  -6.397451   2.020195   3.165573   1.700429  -2.146368   \n",
       "999   0.139994  -1.424653   0.790075   2.595247  -0.543473  -0.413632   \n",
       "\n",
       "     feature_6  feature_7  feature_8  feature_9  ...  feature_11  feature_12  \\\n",
       "0    -0.354769   0.109341  -0.805743  -0.509291  ...    0.626965   -2.713393   \n",
       "1     0.094508  -1.048251  -1.083497   0.487397  ...   -1.151847    0.519897   \n",
       "2     1.573600  -0.575778  -0.352459   2.586871  ...   -0.547441    2.374627   \n",
       "3     0.164503  -0.225105   1.794628  -0.418656  ...   -0.799871    2.809214   \n",
       "4     1.131458  -1.143195  -0.578160  -1.160923  ...   -1.057113   -0.477474   \n",
       "..         ...        ...        ...        ...  ...         ...         ...   \n",
       "995   0.513635  -1.766599  -1.842373   2.311542  ...    2.068611   -3.029699   \n",
       "996   0.753404  -2.063885  -0.818184   0.411716  ...    1.700475   -2.594906   \n",
       "997  -0.188103  -0.352685  -4.998103   2.131885  ...   -1.888042   -1.414132   \n",
       "998  -1.413515   0.895526  -5.415705   2.818855  ...   -0.748071   -3.004173   \n",
       "999   0.629175  -0.314875  -2.417640   0.062424  ...   -1.252588   -0.958794   \n",
       "\n",
       "     feature_13  feature_14  feature_15  feature_16  feature_17  feature_18  \\\n",
       "0      3.170217   -0.951866    1.250079    1.232963    3.149932    3.788432   \n",
       "1      1.239891    0.836711    1.890544    1.553658    0.213256    2.830135   \n",
       "2     -0.087456    3.002685    2.168398    2.572907   -1.144945    0.548786   \n",
       "3     -1.186734    1.785192    1.398503   -0.689849   -1.937763    0.513351   \n",
       "4     -0.077131   -2.013788    0.028805   -0.825174    0.807447    1.287186   \n",
       "..          ...         ...         ...         ...         ...         ...   \n",
       "995    2.294974    0.208349   -0.640322    2.739219    2.373965   -0.618261   \n",
       "996    1.342111   -0.381829   -1.642734    0.543742    1.160004   -1.296134   \n",
       "997    2.580797   -0.138510    1.068942    3.833758    1.132047    2.919885   \n",
       "998    3.531634   -0.513231    0.715165    4.650366    2.599674    2.680242   \n",
       "999    1.235715   -0.794252    0.163174    1.039879    0.501303    1.733575   \n",
       "\n",
       "     feature_19  label  \n",
       "0      2.053140      0  \n",
       "1      0.151218      0  \n",
       "2      1.901121      0  \n",
       "3     -0.792415      0  \n",
       "4      1.345019      1  \n",
       "..          ...    ...  \n",
       "995   -3.031194      1  \n",
       "996   -0.284290      1  \n",
       "997   -0.932863      1  \n",
       "998   -1.857479      1  \n",
       "999   -0.376567      0  \n",
       "\n",
       "[1000 rows x 21 columns]"
      ]
     },
     "execution_count": 4,
     "metadata": {},
     "output_type": "execute_result"
    }
   ],
   "source": [
    "df"
   ]
  },
  {
   "cell_type": "code",
   "execution_count": 5,
   "metadata": {},
   "outputs": [
    {
     "data": {
      "text/plain": [
       "<Axes: ylabel='Density'>"
      ]
     },
     "execution_count": 5,
     "metadata": {},
     "output_type": "execute_result"
    },
    {
     "data": {
      "image/png": "[encoded data removed]",
      "text/plain": [
       "<Figure size 432x288 with 1 Axes>"
      ]
     },
     "metadata": {
      "needs_background": "light"
     },
     "output_type": "display_data"
    }
   ],
   "source": [
    "sns.kdeplot(df)"
   ]
  },
  {
   "cell_type": "code",
   "execution_count": 7,
   "metadata": {},
   "outputs": [],
   "source": [
    "X=df.drop(\"label\", axis=1)\n",
    "y=df['label']"
   ]
  },
  {
   "cell_type": "code",
   "execution_count": 31,
   "metadata": {},
   "outputs": [],
   "source": [
    "q=np.array(X.iloc[998])"
   ]
  },
  {
   "cell_type": "code",
   "execution_count": 22,
   "metadata": {},
   "outputs": [],
   "source": [
    "def kNN(X, y, query, k=3):\n",
    "    # Get the distances from each point in X to the query point.\n",
    "    dists = np.sqrt(np.sum((X - query) ** 2, axis=1))\n",
    "    \n",
    "    # include the labels with dists\n",
    "    distance = [(dists[i],y[i]) for i in range(len(dists))] # type: ignore\n",
    "    \n",
    "    # Sort the distances.\n",
    "    sorted_distance = sorted(distance, key=lambda x: x[0])\n",
    "    \n",
    "    # Gather the first k items from the sorted list.\n",
    "    distance = np.array(sorted_distance[:k])\n",
    "    \n",
    "    # Extract the corresponding labels from the sorted list of (distance, label) pairs.\n",
    "    "
   ]
  },
  {
   "cell_type": "code",
   "execution_count": 28,
   "metadata": {},
   "outputs": [
    {
     "name": "stdout",
     "output_type": "stream",
     "text": [
      "[(16.912074604629996, 0), (10.063638353659023, 0), (9.79225642720376, 0), (7.2331734041417315, 0), (11.213660104204816, 1), (10.774342038547305, 0), (15.779474189842434, 0), (8.488337042471288, 0), (10.782571808920318, 1), (9.293229204690528, 0), (11.13847498404025, 1), (11.437532883314553, 1), (12.042160906703355, 1), (13.347198232038656, 1), (12.042215297023274, 1), (15.814752804007078, 0), (11.604386338128649, 1), (5.731661311473524, 0), (8.771618295372576, 1), (11.1562390552865, 0), (18.607161245860986, 1), (16.00134479988547, 1), (14.527377478756641, 1), (9.211912291709822, 1), (8.892829091154839, 1), (8.956440228954017, 0), (5.157831281959446, 1), (13.53467657708502, 1), (8.84408426169242, 1), (15.252220109966968, 0), (8.704118400884091, 1), (15.523102526335693, 1), (10.823325154535983, 1), (8.144969330839917, 1), (11.870933212053226, 0), (9.011919227169525, 0), (15.071369955227185, 0), (15.125134503690191, 1), (8.487461303534898, 0), (10.565794340732099, 0), (11.737423571459356, 1), (10.00558375990762, 0), (10.872131459949015, 0), (11.377933207798543, 1), (10.306747378703614, 0), (11.593362711654912, 0), (10.283843233028758, 1), (7.6409826854848735, 1), (7.1133754777681775, 0), (9.080051185139547, 0), (9.77441622292735, 0), (10.231512151953172, 0), (10.738416311840195, 1), (14.25592877731981, 1), (12.57326104371608, 1), (4.610558858241666, 0), (15.983634900056348, 0), (12.113494580199749, 1), (15.287059529156211, 0), (6.018464457730749, 0), (5.784295575806965, 1), (12.669786105571538, 1), (15.116987611146756, 1), (12.018222375451941, 1), (13.401995205757604, 1), (17.502876504747, 1), (8.662142379315487, 1), (8.108664873036718, 0), (8.307648518666962, 0), (8.724292831350034, 0), (10.28277599158847, 1), (9.605282382592298, 1), (8.612235185231295, 0), (18.007378395777074, 1), (21.486522106438937, 1), (13.870000522070209, 1), (12.320717443040879, 0), (7.52222615205043, 0), (9.620425904453706, 1), (13.007291139882446, 1), (11.130389894972664, 0), (10.611766546667106, 1), (9.536449347591036, 0), (10.410692351108139, 0), (10.291216842104602, 1), (12.346669739378166, 0), (11.204224683837209, 1), (14.402696435169743, 1), (13.742812423985551, 1), (12.958243477059561, 0), (10.518822933922346, 1), (11.915575867541795, 1), (10.0120909238507, 0), (7.678744889861665, 0), (7.576583901462816, 0), (11.604096524478688, 0), (9.90171161083379, 1), (13.509515961236783, 1), (10.186543766749166, 0), (0.0, 0), (9.860005585538525, 0), (13.763990998875768, 1), (19.399130109966556, 0), (7.954334258656277, 1), (9.574474987752977, 0), (8.299210077127922, 0), (12.561149959362345, 1), (10.390502454490626, 1), (14.99845187145738, 1), (16.80519456088469, 0), (8.84933557090544, 1), (10.855425571294925, 1), (7.4825843643821015, 0), (10.810009816490764, 0), (11.01942476279643, 0), (8.51036347891569, 1), (11.494836786945402, 0), (11.370219405027854, 1), (11.937591114472227, 0), (6.375467040405651, 0), (5.033934989928841, 0), (11.413052394778399, 0), (15.65659621616875, 0), (9.735178811396507, 1), (14.447787449826812, 1), (10.950761099040667, 1), (10.961804350690926, 0), (12.97148969175544, 1), (7.668040802374165, 1), (11.192746296708927, 1), (8.510965627026112, 1), (7.095897247972664, 0), (8.561553289635187, 0), (9.660806659572312, 0), (12.58782826052889, 1), (7.585489929575765, 1), (16.239873406894883, 1), (9.495650087421772, 1), (10.377082605753293, 1), (14.691166837220699, 1), (12.627216469817203, 1), (11.059444285165837, 1), (17.440052447165993, 1), (15.854507461849359, 1), (8.386043252482908, 1), (12.493076003162416, 1), (14.62962491273045, 1), (12.313409169462409, 1), (12.96153873077906, 1), (14.816316615382862, 1), (6.214695237785204, 0), (5.759986276135265, 0), (12.183065430022381, 0), (17.803128710041474, 1), (10.358959917654639, 0), (3.3208575295914806, 0), (11.589168640038409, 0), (12.988411468482614, 0), (6.930988113175762, 0), (10.64029573278961, 1), (12.372122952013514, 1), (21.19031123602671, 1), (8.784564397978862, 1), (13.919766876150591, 0), (14.340901643780125, 1), (10.766337799580185, 1), (13.696342515538648, 1), (7.351272617132258, 0), (15.247750171459924, 0), (10.481226357522162, 1), (7.78189168200373, 0), (9.123369161324485, 0), (16.639010505104203, 1), (7.598768098374622, 0), (9.895979664618991, 1), (10.57514258197577, 1), (14.60959648748564, 0), (13.42288063062408, 1), (11.052579637355802, 0), (5.731165800031131, 0), (19.799792774811696, 1), (9.961433067656992, 1), (7.589508277875057, 0), (12.858738023803955, 1), (13.561176036035988, 1), (5.5712933684727455, 0), (16.99069182377232, 1), (14.279341722995186, 1), (10.728388840857097, 1), (10.404170117287276, 0), (8.216774441697355, 0), (14.948002604947224, 1), (7.58036549321186, 0), (9.141334789144077, 0), (8.047368289212976, 0), (20.344714544954503, 1), (9.866175840406724, 0), (11.046374241714233, 0), (16.847997134578375, 1), (10.847100724813755, 1), (8.76659171470322, 0), (6.728457077043534, 1), (4.9537985853684745, 0), (13.345903753271887, 1), (10.220867180663147, 1), (7.2163804291551745, 1), (11.169174598853473, 0), (14.971880851998407, 1), (7.474262806168914, 0), (12.609790987989399, 1), (10.626046775041162, 0), (8.300247836299816, 0), (9.845450249630298, 0), (12.893890408943276, 0), (13.176783899231884, 1), (11.410136502855732, 1), (9.619451425096624, 1), (16.294968936151317, 1), (9.657643701410278, 0), (8.368111539889941, 0), (8.449992412879055, 0), (15.159315563561337, 1), (9.105140962001895, 1), (7.885632895127798, 1), (5.070130582323159, 0), (9.867406387878919, 1), (9.748704528203737, 1), (12.116340227897895, 1), (12.70989456040498, 0), (14.6896992352064, 1), (12.461212763536887, 0), (14.955502539710617, 1), (12.274954330061918, 1), (10.025943949590433, 0), (10.276333866316882, 0), (16.13178595741984, 0), (12.272086932011215, 0), (8.066545719827518, 1), (17.622418070751877, 0), (10.427030027336375, 1), (6.850890801647962, 0), (8.233748761669096, 0), (12.686159466608297, 1), (16.823143849019896, 1), (12.6599983753495, 0), (15.31925987211139, 0), (8.916207823480898, 0), (14.065533734113314, 0), (9.629092102172901, 0), (12.662622035153818, 1), (11.77143124422436, 0), (6.82106716707627, 0), (13.135518973941021, 0), (5.911364560489344, 0), (13.796502042794181, 1), (18.252250856906045, 1), (8.038248796740447, 0), (7.939083171269026, 0), (9.261063025432767, 0), (8.418936512613834, 0), (8.46322848359853, 0), (12.417804522805536, 1), (7.037998841320065, 0), (18.33334947472617, 0), (6.882122450336921, 0), (7.185192855283952, 0), (15.061583179841934, 1), (11.612711742648765, 1), (10.601987172506423, 1), (10.193187762914446, 0), (10.4378202047919, 0), (8.154912292936844, 1), (12.795190726778978, 0), (14.824648572750249, 1), (15.639472801665741, 1), (7.862542514696419, 0), (11.37021371425293, 0), (17.337366717985265, 1), (16.88450736592671, 0), (15.759792344891217, 1), (13.23440774790777, 0), (8.200244016473732, 1), (15.226104756107148, 1), (7.338529642926488, 0), (5.971872184118908, 0), (10.15125229463461, 0), (16.68995661874179, 0), (8.818788228269426, 0), (7.391271714099906, 0), (11.79749747965842, 0), (13.08917385069227, 0), (6.8774005833982805, 0), (10.805198767752792, 1), (11.170135710164189, 1), (6.743041315122331, 0), (8.52681224512918, 1), (8.762857196412048, 1), (7.405918770820186, 1), (14.669482084971909, 0), (10.687559400467986, 0), (8.144982488831959, 0), (12.15394425809302, 1), (5.387358076406607, 0), (11.485620516366765, 1), (9.134298532310378, 0), (18.62997209785215, 1), (13.528263034546221, 1), (7.6325372304862835, 1), (13.480563823007792, 0), (8.135694111226911, 1), (6.915925435618174, 1), (12.094249889610378, 1), (7.822637200485398, 1), (9.48163672008363, 1), (9.920681166792548, 0), (11.32591367586101, 1), (9.743188169024675, 1), (10.497254561622524, 0), (11.168639156409244, 1), (12.606261588901525, 0), (11.777015999125023, 1), (6.405517066503992, 0), (10.806478526829187, 1), (6.514835989872304, 1), (8.882658168830128, 0), (10.427720072740442, 1), (12.266849334655625, 0), (11.12266386348774, 0), (8.922199671453741, 0), (12.241450604929819, 0), (13.595149143645932, 1), (11.732495481878363, 1), (17.761279228354557, 0), (13.648215655902458, 0), (5.143340905276915, 0), (5.778834392520563, 1), (8.30453874282998, 0), (14.40443722454843, 1), (6.36688220940759, 0), (9.041887005361717, 1), (15.37066947645477, 1), (9.021802985927913, 0), (5.232905078698809, 0), (12.586905259580204, 1), (14.24988387973251, 0), (9.140578869749161, 0), (10.173762717814947, 0), (4.504914031010504, 0), (9.119556929628624, 0), (17.251208234889493, 1), (11.089438482119151, 0), (10.955823992092034, 1), (5.591932301361568, 0), (9.814944379496945, 0), (12.049085855296887, 0), (11.978439069734906, 0), (11.021464009566275, 0), (7.064117769278636, 0), (5.7960235520641135, 1), (7.208455957176005, 1), (16.822770175574476, 1), (9.508413563247705, 0), (9.42108901806027, 0), (8.363549999840926, 1), (6.429650877691778, 1), (10.778869447548251, 0), (7.53156289807217, 0), (4.9506779911082015, 0), (7.7789589800108505, 0), (15.077131863745528, 1), (13.179016869485139, 1), (3.8145896618595065, 1), (12.912726274370122, 0), (7.141291799077393, 1), (16.515840233163505, 0), (11.072689597827377, 1), (11.831789522715091, 0), (10.318744162268265, 1), (12.398848592296533, 1), (15.706941865191444, 1), (9.772500109129464, 1), (12.212049334626885, 1), (7.9176836339879255, 0), (9.787734363314591, 0), (13.509660051005298, 1), (13.404420406386048, 1), (11.352189127097866, 1), (8.752529112105297, 0), (5.768934484257008, 0), (14.57852178135587, 1), (6.387164779600076, 0), (15.372784173185643, 1), (9.344714549290181, 0), (11.28152992934028, 0), (8.287471954457041, 0), (13.941797415761213, 1), (16.398801950854256, 0), (10.542414492552483, 0), (12.343939825036902, 1), (10.036509616223922, 1), (8.57288760928468, 1), (8.308082603662825, 0), (4.146862857913485, 0), (2.855057902073588, 0), (10.973118937494698, 1), (11.107681815340765, 1), (14.10919286914597, 1), (7.740332784337035, 1), (12.862068468499617, 1), (14.639692610190234, 0), (11.32844811495482, 0), (7.833146213754559, 0), (6.078490864055613, 0), (17.773409741571722, 1), (8.929873964629484, 1), (14.76105309849096, 1), (8.44502470423077, 0), (9.375378159630399, 1), (6.3459947419435565, 0), (11.034333990424868, 0), (7.870242313142792, 0), (8.70023346933437, 1), (8.319677304859974, 0), (6.807233585834141, 1), (12.274099686174281, 0), (15.378833233457577, 0), (5.737318397502887, 0), (11.966219223172446, 1), (7.761958463519196, 0), (15.592967295376058, 0), (15.19973703360367, 1), (13.247705493823961, 0), (5.734812040401925, 0), (7.532805994851412, 1), (13.58937599842581, 1), (9.638320863960933, 0), (11.848149165216064, 1), (11.543373806564988, 0), (8.557217485624031, 0), (14.634520075094935, 0), (9.784210790097116, 1), (7.5223843898116565, 0), (6.054344213554886, 0), (10.179768009163274, 1), (11.97052881995998, 1), (12.037252849287688, 1), (5.384025090154031, 0), (13.479478773940707, 1), (13.438662940445685, 1), (12.125659159229492, 1), (8.517920139568393, 1), (12.08973949430025, 0), (13.694848917740648, 1), (12.822044229006186, 0), (11.117955327207106, 1), (10.746330493480711, 1), (9.496669948929695, 1), (5.519755332301147, 0), (14.384466464048353, 1), (8.142012668780756, 1), (8.184498698666866, 0), (14.33566483574248, 1), (16.871769994761046, 1), (6.130930624744779, 0), (13.161946918238353, 1), (16.510692480618086, 0), (5.726370479747349, 0), (4.825759711401162, 0), (16.707153173647736, 1), (15.702364190578228, 0), (12.851711917449661, 0), (16.78707445777128, 0), (9.80440086275853, 0), (13.507452808055055, 1), (10.237966654812707, 1), (10.641218713369247, 1), (10.970947465846939, 0), (10.345932142057874, 0), (12.586879345167796, 1), (10.178364330773874, 1), (7.326704372104426, 0), (12.139175006078567, 0), (13.9354331703528, 1), (16.140073474191315, 1), (4.430577501002077, 0), (8.783844064270792, 1), (14.161269128921042, 1), (12.087429741911158, 1), (15.991201154244186, 0), (4.69789234538078, 0), (11.38351045628677, 0), (4.548428973094961, 0), (15.351555480283679, 1), (14.090000948093373, 0), (12.23966368320136, 0), (8.667341526037664, 1), (16.79257853361759, 1), (12.222886261032949, 1), (13.785791281296289, 1), (17.80778313711164, 0), (8.875574385891726, 0), (12.368438603342096, 0), (13.18829541666092, 0), (7.7548542909608305, 0), (12.191439965638878, 1), (9.068318676088511, 1), (8.018955634949073, 1), (7.98964489415464, 0), (9.78329128600117, 0), (8.907183154892309, 0), (6.355999987731079, 0), (10.353729281471248, 1), (12.300092874275816, 1), (7.245766701240141, 0), (9.15964255080776, 0), (9.407734621132244, 0), (13.661857698271422, 1), (7.9892214197462845, 1), (15.438416048465225, 1), (12.124842239748556, 1), (7.691253901153169, 0), (15.805912006619785, 0), (5.208488267065403, 0), (17.561890204979452, 1), (9.049265555927281, 0), (14.05874872779397, 1), (3.3538939492967454, 0), (11.57729809279026, 0), (11.495034446697414, 0), (10.669657061469396, 1), (10.791266429527976, 1), (16.273346241857773, 1), (8.815808565980484, 0), (8.920710094055796, 0), (6.8171149906082436, 0), (13.319795511018933, 1), (15.538905321050466, 1), (13.621437761518433, 1), (19.019152142096086, 1), (9.257011131449609, 0), (9.585632371620212, 0), (11.647901112601822, 1), (14.566774983731493, 1), (13.630740666127233, 1), (5.8801615523923525, 0), (10.300736463787606, 0), (18.454579123545873, 1), (11.084488216071414, 0), (7.110832127957029, 0), (14.115727307754643, 0), (8.086918482139534, 1), (12.898514371732162, 1), (12.037612070309626, 0), (6.156968849239684, 0), (7.017128750813089, 0), (10.544584486570898, 0), (9.373499427128001, 1), (11.925243175454924, 0), (8.808054654356136, 0), (9.844262056201451, 1), (9.420502759762543, 1), (9.836477749677146, 1), (7.8873017524997655, 1), (9.183343477859562, 0), (11.502068794506004, 1), (3.775908791251992, 0), (10.794772850449952, 0), (7.858941727186877, 0), (6.814078800015525, 0), (10.556952306483051, 1), (11.376638256019364, 0), (12.388242618586824, 0), (9.554263117799305, 1), (13.347183160206193, 1), (10.78257138793719, 1), (9.970904710509215, 0), (13.219336372287598, 1), (13.913747593117439, 1), (10.487381219445496, 0), (9.51001835292348, 0), (10.483040456312944, 1), (9.980281234785558, 0), (13.4967453138029, 1), (4.5595867794697975, 0), (8.618478999109508, 0), (5.352290830342121, 1), (12.876236210065203, 1), (20.111979684588253, 1), (9.524105118789661, 1), (7.731138441892588, 1), (12.950264671886849, 0), (6.225949643605835, 0), (11.759856780169065, 1), (3.832656886157912, 0), (10.283068163766295, 0), (11.546932337817113, 0), (11.765681261714047, 0), (4.236082074397497, 0), (11.14853571068904, 0), (17.211904262981935, 1), (14.84417310881283, 1), (9.053949251496885, 0), (4.937219257548897, 0), (13.84235763862783, 0), (10.361111876655643, 1), (12.008487305893079, 0), (12.169150666607578, 0), (15.196335583051416, 1), (12.478461128054583, 0), (13.346760826743553, 0), (10.161549814388195, 0), (10.896742969218268, 0), (11.537242595348799, 1), (11.555412732330241, 0), (13.192760145981158, 1), (13.302333538856983, 0), (8.028075226345369, 0), (9.803853541916775, 0), (13.11526463619363, 1), (15.338211074924173, 1), (14.104553423250618, 0), (11.38565072167298, 1), (9.125438635698227, 1), (8.689787393699266, 1), (9.210587203782167, 0), (15.00184404828585, 0), (9.011825292430196, 1), (16.152243440632184, 1), (9.965921595719815, 1), (10.12295967241415, 0), (13.780259454417829, 1), (6.656843464128437, 0), (11.783387838754685, 1), (7.1787235267836405, 0), (11.19154485296474, 1), (12.742317844065186, 0), (10.559231234848905, 1), (7.37665280214631, 0), (12.50000468991365, 0), (15.066011695795666, 1), (5.663930513128649, 0), (15.257330559884291, 1), (8.559040159379766, 0), (8.009000294602322, 0), (8.510965414106948, 1), (9.956387070327523, 1), (15.96461453960757, 1), (11.937505751668114, 0), (10.807947619309504, 1), (9.64005979017689, 0), (19.847736541392763, 1), (11.51020725950051, 1), (13.609104698576255, 1), (9.899642017602517, 1), (9.312484831709096, 1), (8.881589703919573, 0), (13.68660675950063, 1), (13.457949675652452, 1), (15.237160018626241, 1), (17.278599121407126, 1), (10.50717943486904, 0), (6.452839546328055, 0), (8.936704956495165, 1), (9.149457139213158, 1), (10.21772334850142, 1), (12.885021024038748, 0), (9.450283219689029, 1), (11.597877393838521, 1), (12.393680557263258, 1), (11.79487674422076, 0), (13.50527701430532, 1), (15.560210221241563, 0), (7.865461901743983, 0), (12.427623721907448, 1), (12.305683649469009, 1), (7.955492571488227, 1), (12.613553427017361, 1), (7.361908816450009, 0), (8.856422965167667, 1), (11.367566349129316, 0), (10.82430180564475, 0), (7.2504283587111935, 0), (10.718158902998749, 0), (8.151000588846138, 0), (11.844851391028769, 0), (9.396232794292729, 0), (11.683794682706848, 1), (12.369191026252228, 1), (10.243606376815134, 1), (11.36905411871597, 0), (16.6559399541201, 1), (10.120097641850164, 0), (8.072906699208465, 0), (11.51417848267179, 0), (5.551379737736514, 0), (6.554811501315789, 0), (6.566660556813828, 1), (8.63300048612279, 1), (7.683042104595867, 0), (8.966971092905906, 1), (9.603574807360406, 0), (9.669878738545375, 0), (15.451166460635456, 1), (14.951115945358826, 1), (8.065938152443696, 1), (2.109845204333657, 0), (8.133427821162346, 0), (4.990554126022404, 1), (8.628200162500727, 1), (13.557700753922177, 1), (14.45271357251314, 1), (9.79718070237678, 0), (14.109878912038191, 1), (12.847523825744295, 0), (7.704023942711818, 0), (13.855613283532525, 1), (14.435184054079944, 1), (6.702712636087261, 0), (14.619478711237365, 1), (9.338899269950529, 0), (9.868438323443907, 1), (9.465782747372774, 0), (11.029676657051185, 0), (13.416812200854046, 1), (7.056435774631374, 1), (7.070085005497831, 0), (12.719114215901241, 1), (9.71471092575411, 0), (13.476540669514407, 0), (7.249937403091686, 0), (11.815266967917317, 1), (13.56065414754543, 0), (12.610310730799114, 1), (10.674938662682402, 1), (6.87826280053559, 0), (7.593852397000325, 0), (13.375879750170611, 0), (9.943433346194848, 1), (8.36263244095486, 1), (9.297751672982326, 0), (7.772898536302466, 0), (6.430538380014656, 1), (11.230425893802607, 1), (12.620127467802545, 0), (16.114400811644675, 1), (12.382385222220286, 0), (14.449542453276282, 0), (7.495197367543332, 0), (14.637935021724648, 0), (12.03125367673142, 1), (4.904166462952062, 0), (12.497978976260546, 0), (10.013772795146188, 0), (10.075232119033775, 1), (9.461919598462671, 1), (13.29477733145872, 1), (10.520658688681289, 1), (16.59161862494142, 1), (11.502224141859802, 1), (8.379265002110373, 0), (13.453018828690766, 0), (10.905617387186465, 0), (12.805418629062064, 0), (5.8949240869366974, 0), (15.11809509899836, 1), (5.0653020216195515, 0), (14.427846302991146, 0), (11.695168855015842, 0), (14.20928850568179, 1), (12.921303047140881, 1), (7.906629988443991, 0), (16.99776913162678, 1), (7.142081904403426, 0), (9.23690507187167, 1), (17.406130651661574, 1), (11.379771746163202, 0), (10.603751848895506, 1), (8.682880932705443, 0), (12.695020035389742, 0), (6.956180186313472, 0), (15.750187154351336, 1), (10.04035291442519, 1), (11.893900852674506, 0), (12.192923878134465, 1), (8.617915622866956, 0), (12.48500801396456, 1), (7.622938708260428, 0), (11.9044404118021, 1), (14.804566579966785, 0), (16.274376544137567, 1), (17.305810134888624, 1), (10.976085427063676, 1), (9.3685279207101, 0), (8.679622874397042, 1), (8.301577506039633, 1), (3.2178650089906586, 0), (11.971690195441054, 1), (9.08615752890788, 1), (7.467165710011288, 0), (14.970986429366524, 1), (11.229430716048183, 1), (12.785979820219334, 1), (5.291971066650375, 0), (10.326444332469004, 0), (4.422088177773484, 0), (11.797480673144273, 1), (10.404252593724035, 0), (11.24168940413719, 1), (12.20008590341232, 1), (11.872027036100251, 0), (7.281926187197003, 1), (7.913168787911398, 0), (13.279065270282143, 1), (12.965633173836059, 1), (4.772779299066397, 0), (11.55689725741118, 1), (12.576354706295856, 0), (12.315884452529072, 1), (10.10652545978082, 0), (10.002191970759329, 0), (13.392463309514204, 1), (9.600194817875327, 1), (13.428362706967272, 1), (14.592769376863666, 1), (8.026442199855394, 0), (7.44306936368983, 1), (17.323798658480754, 0), (8.37236955744117, 0), (9.797249434081259, 1), (15.50867974096506, 1), (8.269245041984506, 0), (10.702192533016444, 1), (6.9077774158248975, 1), (12.542135920742865, 1), (9.682412069868178, 0), (10.878772086849557, 1), (11.978599433820955, 0), (10.783485319550591, 0), (14.893075538223409, 1), (9.923015150687213, 0), (12.764807481890971, 1), (12.789378985118985, 1), (10.875179446951675, 0), (11.275763395000126, 1), (15.542753861860126, 1), (7.875302978494517, 1), (6.998246874177881, 0), (13.955388500162927, 1), (14.21541655553984, 1), (13.098985100081398, 1), (10.9882152023753, 0), (14.40947115014283, 1), (6.245603573854276, 0), (12.35570392722286, 0), (6.1319918693890285, 0), (16.666332509541853, 0), (9.210282167125058, 1), (10.390024686914591, 1), (10.783499045725044, 0), (15.635647067785468, 1), (11.789246737836667, 1), (9.43060043903649, 0), (11.41615868033435, 0), (9.714059922825026, 0), (10.175277637680107, 0), (15.345737801533588, 1), (6.681551645351946, 1), (12.14134057026735, 1), (10.747977715117578, 0), (9.985981672556566, 1), (10.679501632012418, 1), (7.076753693544501, 0), (15.966099522565333, 1), (11.392617320752024, 0), (10.01328386527482, 1), (6.442735601582922, 0), (10.246340936263248, 0), (9.315177779965031, 0), (16.778149508637917, 1), (13.577999583903056, 1), (11.26673499073614, 1), (10.0715113178866, 0), (9.099481540559747, 1), (13.323423627511495, 1), (9.138691018558742, 1), (11.620995881701035, 0), (13.159381315404145, 1), (7.197004201112518, 0), (8.749616647800515, 0), (11.389059034996828, 1), (14.605958665638374, 0), (12.7009831085562, 1), (9.275939473100728, 1), (8.316383686848775, 0), (14.058560077402953, 1), (9.837434579064258, 1), (16.97851240927128, 1), (11.742079844936525, 0), (5.887162216996829, 0), (8.096024329685243, 0), (11.011246721217796, 1), (5.453967563374571, 0), (11.334981548602531, 0), (7.8286238402823525, 0), (12.675491632996462, 1), (12.936241531778618, 0), (11.528736335040366, 0), (19.074005317496717, 1), (11.344945390053146, 1), (8.527591553293547, 0), (2.6367623681825103, 0), (12.189960406801367, 1), (13.53559768583663, 1), (12.222846239808911, 1), (11.221065685533356, 1), (5.109903151829734, 0), (10.445294102759279, 0), (12.87517946419838, 0), (7.610328418034697, 1), (11.65063775976667, 1), (13.157318852337498, 1), (7.67315061519085, 0), (10.013252751018381, 1), (4.672081906052664, 0), (8.29765898893269, 1), (10.397841019426064, 1), (17.222929501775166, 1), (10.051843252828109, 0), (4.982732668296717, 0), (8.31415101338458, 1), (6.727921899116454, 0), (8.636900533191584, 0), (13.701844200742286, 1), (15.649199200748141, 0), (9.956156594052615, 0), (14.98477395438763, 1), (7.365462521554074, 0), (4.370294265549101, 0), (8.982211068866949, 0), (7.255901619409877, 0), (5.847152421454618, 0), (15.308722315493183, 1), (14.154431717415989, 1), (14.393651600192271, 1), (9.77626771723951, 0), (12.761906790309768, 0), (6.5344443981279525, 0), (7.666699177709415, 0), (13.398550334176544, 1), (10.134198950997636, 1), (8.79018828686734, 0), (13.0774490169567, 1), (4.362390698191687, 1), (8.791536731498882, 0), (7.186362678554002, 0), (10.031865138535426, 1), (12.105802533405525, 1), (13.139930050552012, 1), (13.429068366509753, 1), (10.230810114387076, 0), (9.81510183560611, 1), (11.467282463724294, 1), (7.714878184437588, 0), (5.118921317963609, 0), (17.677772576443047, 1), (8.401424089561031, 1), (13.97869371395157, 1), (8.551295015724381, 0), (7.0807642129567485, 0), (9.83820871460248, 0), (10.804545487350476, 0), (5.765810536898369, 0), (11.63745150527071, 1), (9.764544411628377, 0), (16.461095392631098, 1), (15.408545543811517, 0), (8.853551272523458, 1), (9.142512076538358, 1), (12.217808033168037, 1), (21.61957767794018, 0), (9.301687102250515, 0), (8.582024212758135, 1), (9.023564526362447, 0), (15.279877082325358, 1), (18.04980250962679, 1), (10.92439339099161, 1), (6.563698235852452, 0), (8.690060903920331, 1), (16.0258479737361, 1), (19.05011382403376, 1), (11.272814581052469, 0), (11.309307312833345, 0), (9.575454684741336, 1), (6.320213143958807, 0), (8.77159841809918, 0), (16.573258832099008, 1), (13.213182450929981, 1), (14.050134285463399, 1), (17.70952735324842, 1), (10.415493034652267, 0)]\n"
     ]
    }
   ],
   "source": [
    "kNN(X, y, q, k=3)"
   ]
  },
  {
   "cell_type": "code",
   "execution_count": 33,
   "metadata": {},
   "outputs": [],
   "source": [
    "## KNN Algo\n",
    "\n",
    "def knn(X,Y,queryPoint,k=5):\n",
    "    \"\"\"Predict the class label for the query point\"\"\"\n",
    "    # Euclidean Distance\n",
    "    dist = np.sqrt(np.sum((queryPoint-X)**2,axis=1) )\n",
    "\n",
    "    # Storing distance and Class labels together\n",
    "    distances = [(dist[i],Y[i]) for i in range(len(dist)) ]\n",
    "    # sort the distances\n",
    "    distances = sorted(distances, key=lambda x:x[0])\n",
    "    # Nearest/First K points\n",
    "    distances = distances[:k]\n",
    "\n",
    "    # print(f'k nearest neighbors with the distance and class label :{distances}')\n",
    "    distances = np.array(distances)\n",
    "\n",
    "    # https://numpy.org/doc/stable/reference/generated/numpy.unique.html\n",
    "    classes_counts = np.unique(distances[:,1],return_counts=True)\n",
    "\n",
    "    index = classes_counts[1].argmax()\n",
    "    pred = classes_counts[0][index]\n",
    "\n",
    "    return int(pred)"
   ]
  },
  {
   "cell_type": "code",
   "execution_count": 34,
   "metadata": {},
   "outputs": [
    {
     "data": {
      "text/plain": [
       "1"
      ]
     },
     "execution_count": 34,
     "metadata": {},
     "output_type": "execute_result"
    }
   ],
   "source": [
    "knn(X,y,q,k=5)"
   ]
  },
  {
   "cell_type": "code",
   "execution_count": 6,
   "metadata": {},
   "outputs": [],
   "source": [
    "from sklearn.neighbors import KNeighborsClassifier\n",
    "from sklearn.model_selection import train_test_split\n",
    "import numpy as np\n",
    "\n"
   ]
  },
  {
   "cell_type": "code",
   "execution_count": 13,
   "metadata": {},
   "outputs": [],
   "source": [
    "X_train, X_test, y_train, y_test= train_test_split(X,y, random_state=42, train_size=0.7)"
   ]
  },
  {
   "cell_type": "code",
   "execution_count": 14,
   "metadata": {},
   "outputs": [
    {
     "data": {
      "text/plain": [
       "((300, 20), (700, 20))"
      ]
     },
     "execution_count": 14,
     "metadata": {},
     "output_type": "execute_result"
    }
   ],
   "source": [
    "X_test.shape, X_train.shape"
   ]
  },
  {
   "cell_type": "code",
   "execution_count": null,
   "metadata": {},
   "outputs": [],
   "source": []
  }
 ],
 "metadata": {
  "kernelspec": {
   "display_name": "Python 3",
   "language": "python",
   "name": "python3"
  },
  "language_info": {
   "codemirror_mode": {
    "name": "ipython",
    "version": 3
   },
   "file_extension": ".py",
   "mimetype": "text/x-python",
   "name": "python",
   "nbconvert_exporter": "python",
   "pygments_lexer": "ipython3",
   "version": "3.10.2"
  }
 },
 "nbformat": 4,
 "nbformat_minor": 2
}
